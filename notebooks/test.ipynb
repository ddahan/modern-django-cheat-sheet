{
 "cells": [
  {
   "cell_type": "code",
   "execution_count": 10,
   "metadata": {},
   "outputs": [
    {
     "ename": "ModuleNotFoundError",
     "evalue": "No module named 'utils'",
     "output_type": "error",
     "traceback": [
      "\u001b[0;31m---------------------------------------------------------------------------\u001b[0m",
      "\u001b[0;31mModuleNotFoundError\u001b[0m                       Traceback (most recent call last)",
      "\u001b[1;32m/workspaces/modern-django-cheat-sheet/notebooks/01_basic/test.ipynb Cell 1\u001b[0m line \u001b[0;36m1\n\u001b[0;32m----> <a href='vscode-notebook-cell://dev-container%2B7b227265706f7369746f727950617468223a2268747470733a2f2f6769746875622e636f6d2f64646168616e2f6d6f6465726e2d646a616e676f2d63686561742d73686565742e6769742f747265652f6d61696e222c22766f6c756d654e616d65223a225f5f554e495155455f5f222c22666f6c646572223a226d6f6465726e2d646a616e676f2d63686561742d7368656574222c2273657474696e6773223a7b22636f6e74657874223a226465736b746f702d6c696e7578227d2c22636c6f6e65496e666f223a7b2275726c546f436c6f6e65223a2268747470733a2f2f6769746875622e636f6d2f64646168616e2f6d6f6465726e2d646a616e676f2d63686561742d73686565742e676974222c22726566223a226d61696e227d2c22696e7370656374566f6c756d65223a66616c73657d/workspaces/modern-django-cheat-sheet/notebooks/01_basic/test.ipynb#W2sdnNjb2RlLXJlbW90ZQ%3D%3D?line=0'>1</a>\u001b[0m \u001b[39mfrom\u001b[39;00m \u001b[39mutils\u001b[39;00m \u001b[39mimport\u001b[39;00m django_initializer\n\u001b[1;32m      <a href='vscode-notebook-cell://dev-container%2B7b227265706f7369746f727950617468223a2268747470733a2f2f6769746875622e636f6d2f64646168616e2f6d6f6465726e2d646a616e676f2d63686561742d73686565742e6769742f747265652f6d61696e222c22766f6c756d654e616d65223a225f5f554e495155455f5f222c22666f6c646572223a226d6f6465726e2d646a616e676f2d63686561742d7368656574222c2273657474696e6773223a7b22636f6e74657874223a226465736b746f702d6c696e7578227d2c22636c6f6e65496e666f223a7b2275726c546f436c6f6e65223a2268747470733a2f2f6769746875622e636f6d2f64646168616e2f6d6f6465726e2d646a616e676f2d63686561742d73686565742e676974222c22726566223a226d61696e227d2c22696e7370656374566f6c756d65223a66616c73657d/workspaces/modern-django-cheat-sheet/notebooks/01_basic/test.ipynb#W2sdnNjb2RlLXJlbW90ZQ%3D%3D?line=2'>3</a>\u001b[0m \u001b[39mfrom\u001b[39;00m \u001b[39mdjango\u001b[39;00m\u001b[39m.\u001b[39;00m\u001b[39mcontrib\u001b[39;00m\u001b[39m.\u001b[39;00m\u001b[39mauth\u001b[39;00m\u001b[39m.\u001b[39;00m\u001b[39mmodels\u001b[39;00m \u001b[39mimport\u001b[39;00m User\n\u001b[1;32m      <a href='vscode-notebook-cell://dev-container%2B7b227265706f7369746f727950617468223a2268747470733a2f2f6769746875622e636f6d2f64646168616e2f6d6f6465726e2d646a616e676f2d63686561742d73686565742e6769742f747265652f6d61696e222c22766f6c756d654e616d65223a225f5f554e495155455f5f222c22666f6c646572223a226d6f6465726e2d646a616e676f2d63686561742d7368656574222c2273657474696e6773223a7b22636f6e74657874223a226465736b746f702d6c696e7578227d2c22636c6f6e65496e666f223a7b2275726c546f436c6f6e65223a2268747470733a2f2f6769746875622e636f6d2f64646168616e2f6d6f6465726e2d646a616e676f2d63686561742d73686565742e676974222c22726566223a226d61696e227d2c22696e7370656374566f6c756d65223a66616c73657d/workspaces/modern-django-cheat-sheet/notebooks/01_basic/test.ipynb#W2sdnNjb2RlLXJlbW90ZQ%3D%3D?line=5'>6</a>\u001b[0m User\u001b[39m.\u001b[39mobjects\u001b[39m.\u001b[39mall()\n",
      "\u001b[0;31mModuleNotFoundError\u001b[0m: No module named 'utils'"
     ]
    }
   ],
   "source": [
    "from utils import django_initializer\n",
    "\n",
    "from django.contrib.auth.models import User\n",
    "\n",
    "\n",
    "User.objects.all()"
   ]
  }
 ],
 "metadata": {
  "kernelspec": {
   "display_name": "Python 3",
   "language": "python",
   "name": "python3"
  },
  "language_info": {
   "codemirror_mode": {
    "name": "ipython",
    "version": 3
   },
   "file_extension": ".py",
   "mimetype": "text/x-python",
   "name": "python",
   "nbconvert_exporter": "python",
   "pygments_lexer": "ipython3",
   "version": "3.11.5"
  },
  "orig_nbformat": 4
 },
 "nbformat": 4,
 "nbformat_minor": 2
}
